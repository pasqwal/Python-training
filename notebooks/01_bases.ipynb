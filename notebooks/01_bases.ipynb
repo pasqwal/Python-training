{
 "cells": [
  {
   "cell_type": "markdown",
   "metadata": {
    "deletable": true,
    "editable": true
   },
   "source": [
    "# Premiers pas en Python\n",
    "Ceci est un document [Jupyter Notebook](http://jupyter.org/index.html). Il va vous permettre de faire vos premiers pas en Python. Certains champs ci-dessous vous permettront de saisir des instructions Python et de les exécuter pour voir le résultat. Vous pouvez voir un *Notebook Jupyter* comme un cahier d'exercices qui mèle documentation et cas pratique.\n",
    "\n",
    "Vous pouvez faire un premier essai ci-dessous. Saisissez l'instruction\n",
    "> print('Hello world')\n",
    "\n",
    "Puis en ayant la cellule sélectionnée, appuyez sur le bouton *run*. ou dans le menu, choisissez *Cell* puis *run cells*."
   ]
  },
  {
   "cell_type": "code",
   "execution_count": null,
   "metadata": {
    "collapsed": false,
    "deletable": true,
    "editable": true
   },
   "outputs": [],
   "source": []
  },
  {
   "cell_type": "markdown",
   "metadata": {
    "deletable": true,
    "editable": true
   },
   "source": [
    "Comme vous pouvez le constater, avec les Notebooks Jupiter, vous pouvez exécuter des instructions Python dans les champs dédiés. Dans ces champs, vous pouvez déclarer des variables et exécuter des opérations sur celles-ci."
   ]
  },
  {
   "cell_type": "code",
   "execution_count": 2,
   "metadata": {
    "collapsed": false,
    "deletable": true,
    "editable": true
   },
   "outputs": [
    {
     "name": "stdout",
     "output_type": "stream",
     "text": [
      "Python a été créé en 1989\n"
     ]
    }
   ],
   "source": [
    "tp_nom = \"Python\"\n",
    "tp_year = 1989\n",
    "print(tp_nom + \" a été créé en \" + str(tp_year))"
   ]
  },
  {
   "cell_type": "markdown",
   "metadata": {
    "deletable": true,
    "editable": true
   },
   "source": [
    "Dans un même Notebook, les variables, fonctions ou classes déclarées dans un champ sont disponibles dans les champs suivants."
   ]
  },
  {
   "cell_type": "code",
   "execution_count": 6,
   "metadata": {
    "collapsed": false,
    "deletable": true,
    "editable": true,
    "scrolled": true
   },
   "outputs": [
    {
     "name": "stdout",
     "output_type": "stream",
     "text": [
      "Python a bien été créé en 1989\n"
     ]
    }
   ],
   "source": [
    "print(tp_nom + \" a bien été créé en \" + str(tp_year))"
   ]
  },
  {
   "cell_type": "markdown",
   "metadata": {
    "deletable": true,
    "editable": true
   },
   "source": [
    "Considérez réellement ces Notebooks comme des cahiers d'exercice mais n'oubliez pas, comme il vous a été présenté, que les instructions Python peuvent aussi s'exécuter dans un terminal intéractif. N'hésitez pas à utiliser conjointement les deux environnements.\n",
    "\n",
    "## Découverte du langage : les variables\n",
    "\n",
    "Lorsqu'une donnée est affectée à une variable en Python, il n'est pas nécessaire de déclarer son type. L'interpréteur crée la variable à la déclaration et déduit le type\n",
    "```python\n",
    "tp_nom = \"Python\"\n",
    "tp_year = 1989\n",
    "```\n",
    "Ici, tp_year contient une donnée de type chaine de caractères et tp_year une donnée de type entier (int).\n",
    "\n",
    "Grâce à des fonctions, on peut transtyper une valeur. Dans l'exemple suivant, tp_year référence une valeur de type entier bien que la donnée initiale soit du type chaine de caractères\n",
    "```python\n",
    "tp_year = int(\"1989\")\n",
    "```\n",
    "\n",
    "La fonction input permet d'intéragie avec l'utilisateur afin de lui demander de saisir une valeur. La fonction input retourne une donnée de type chaine de caractères. Pensez donc à la transtyper au besoin.\n",
    "```python\n",
    "tp_nom = input('Quel est votre langage favori ? ')\n",
    "print(tp_nom)\n",
    "```\n",
    "La fonction input fonctionne dans un notebook Jupyter. Testez l'intéraction avec l'utilisateur ci-dessous."
   ]
  },
  {
   "cell_type": "code",
   "execution_count": null,
   "metadata": {
    "collapsed": false,
    "deletable": true,
    "editable": true
   },
   "outputs": [],
   "source": []
  },
  {
   "cell_type": "markdown",
   "metadata": {
    "deletable": true,
    "editable": true
   },
   "source": [
    "Pour retourner une information à l'utilisateur, nous utiliserons la fonction print qui affiche le paramètre dans le terminal. Nous pouvond ainsi afficher la variable :\n",
    "```python\n",
    "print(tp_year)\n",
    "```\n",
    "Nous pouvons aussi mettre en forme cet affichage avec des chaines de caractères. Il est préférable d'utiliser les chaines formatées avec la méthode format:\n",
    "```python\n",
    "pref_string = \"Mon langage favori est {}\"\n",
    "print(pref_string.format(tp_nom))\n",
    "```"
   ]
  },
  {
   "cell_type": "code",
   "execution_count": null,
   "metadata": {
    "collapsed": true,
    "deletable": true,
    "editable": true
   },
   "outputs": [],
   "source": []
  },
  {
   "cell_type": "markdown",
   "metadata": {
    "deletable": true,
    "editable": true
   },
   "source": [
    "### Exercices\n",
    "\n",
    "Les exercices suivants peuvent être exécutés dans ce Notebook. Certains nécessiteront d'être exécutés dans le terminal interractif et les plus avancés ne pourront être réalisés qu'avec des modules.\n",
    "\n",
    "Affectez les valeurs 6.892 et 19.7 aux variables temps et distance.\n",
    "  * Calculez et affichez la valeur de la vitesse (m/s).\n",
    "  * Améliorez l'affichage en imposant deux chiffres après le point décimal"
   ]
  },
  {
   "cell_type": "code",
   "execution_count": 3,
   "metadata": {
    "collapsed": false,
    "deletable": true,
    "editable": true
   },
   "outputs": [
    {
     "name": "stdout",
     "output_type": "stream",
     "text": [
      "2.8583865351131745\n",
      "la vitesse est de 2.86 m/s\n"
     ]
    }
   ],
   "source": [
    "temps = 6.892\n",
    "distance = 19.7\n",
    "vitesse = distance / temps\n",
    "print(vitesse)\n",
    "print(\"la vitesse est de {:.2f} m/s\".format(vitesse))\n"
   ]
  },
  {
   "cell_type": "markdown",
   "metadata": {
    "collapsed": true,
    "deletable": true,
    "editable": true
   },
   "source": [
    "Demander le nom et l’âge puis affichez-les ( exemple : Yoda a 800 ans )"
   ]
  },
  {
   "cell_type": "code",
   "execution_count": 4,
   "metadata": {
    "collapsed": false,
    "deletable": true,
    "editable": true
   },
   "outputs": [
    {
     "name": "stdout",
     "output_type": "stream",
     "text": [
      "Quel est ton nom ?Jabba\n",
      "Age ?500\n",
      "Jabba a 500 ans\n"
     ]
    }
   ],
   "source": [
    "nom = input(\"Quel est ton nom ?\")\n",
    "age = input(\"Age ?\")\n",
    "print(\"{} a {} ans\".format(nom, age))\n"
   ]
  },
  {
   "cell_type": "markdown",
   "metadata": {
    "deletable": true,
    "editable": true
   },
   "source": [
    "On souhaite écrire un programme de répartition d’addition. Pour cela, le programme doit demander le nombre de personnes et le total. Une fois le programme écrit, testez:\n",
    "* la répartition d’une addition de 47,90 € à 5.\n",
    "* la répartition d’une addition de 19 € à 3."
   ]
  },
  {
   "cell_type": "code",
   "execution_count": 7,
   "metadata": {
    "collapsed": false,
    "deletable": true,
    "editable": true
   },
   "outputs": [
    {
     "name": "stdout",
     "output_type": "stream",
     "text": [
      "Quel est le montant ?47.9\n",
      "Combien êtes-vous ?5\n",
      "Le montant par personne est de 9.58\n"
     ]
    }
   ],
   "source": [
    "montant_addition = float(input(\"Quel est le montant ?\"))\n",
    "nb_personne = int(input(\"Combien êtes-vous ?\"))\n",
    "montant_personne = montant_addition / nb_personne\n",
    "print(\"Le montant par personne est de {:.2f}\".format(montant_personne))"
   ]
  },
  {
   "cell_type": "markdown",
   "metadata": {
    "deletable": true,
    "editable": true
   },
   "source": [
    "## Les listes\n",
    "Définir la liste ma_liste = [17, 38, 10, 25, 72]\n",
    "1. triez et affichez la liste\n",
    "1. ajoutez l’élément 12 à la liste et affichez la.\n",
    "1. renversez et affichez la liste\n",
    "1. affichez l’indice de l’élément 17\n",
    "1. enlevez l’élément 38 et affichez la liste\n",
    "1. affichez la sous-liste du 2ème au 3ème élément\n",
    "1. affichez la sous-liste du début au 2ème élément\n",
    "1. affichez la sous-liste du 3ème à la fin de la liste\n",
    "1. Affichez le dernier élément\n",
    "1. créez une copie de votre liste dans une nouvelle variable\n",
    "1. ajoutez à votre nouvelle liste l’élément 42, que remarquez—vous ?"
   ]
  },
  {
   "cell_type": "code",
   "execution_count": 24,
   "metadata": {
    "collapsed": false,
    "deletable": true,
    "editable": true
   },
   "outputs": [
    {
     "name": "stdout",
     "output_type": "stream",
     "text": [
      "[10, 17, 25, 38, 72]\n",
      "[72, 38, 25, 17, 10]\n",
      "3\n",
      "[72, 25, 17, 10]\n",
      "[25, 17, 10]\n",
      "[72, 25, 17]\n",
      "[17, 10]\n",
      "10\n",
      "[72, 25, 17, 10]\n",
      "[72, 42, 25, 17, 10]\n",
      "[72, 25, 17, 10]\n"
     ]
    }
   ],
   "source": [
    "ma_liste = [17, 38, 10, 25, 72]\n",
    "ma_liste.sort()\n",
    "print(ma_liste)\n",
    "ma_liste.reverse()\n",
    "print(ma_liste)\n",
    "print(ma_liste.index(17))\n",
    "ma_liste.remove(38)\n",
    "print(ma_liste)\n",
    "print(ma_liste[1:4])\n",
    "print(ma_liste[:3])\n",
    "print(ma_liste[2:])\n",
    "print(ma_liste[-1])\n",
    "ma_liste_copy = ma_liste[:]\n",
    "print(ma_liste_copy)\n",
    "ma_liste_copy.insert(1,42)\n",
    "print(ma_liste_copy)\n",
    "print(ma_liste)"
   ]
  },
  {
   "cell_type": "markdown",
   "metadata": {
    "deletable": true,
    "editable": true
   },
   "source": [
    "Vous pouvez maintenant passer au [book 2](http://localhost:8888/notebooks/02_Structures_controle.ipynb)"
   ]
  }
 ],
 "metadata": {
  "kernelspec": {
   "display_name": "Python 3",
   "language": "python",
   "name": "python3"
  },
  "language_info": {
   "codemirror_mode": {
    "name": "ipython",
    "version": 3
   },
   "file_extension": ".py",
   "mimetype": "text/x-python",
   "name": "python",
   "nbconvert_exporter": "python",
   "pygments_lexer": "ipython3",
   "version": "3.5.2"
  }
 },
 "nbformat": 4,
 "nbformat_minor": 0
}
