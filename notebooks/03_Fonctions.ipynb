{
 "cells": [
  {
   "cell_type": "markdown",
   "metadata": {
    "deletable": true,
    "editable": true
   },
   "source": [
    "# Les Fonctions\n",
    "Les fonctions permettent de grouper des instructions et de les appeler par un nom logique. Ceci permet entre-autres de limiter la duplication de code. Les fonctions peuvent attendre des paramètres et retourner des données.\n",
    "\n",
    "Les fonctions sont définies par l'instruction **def** et sont appelées par leur nom suivi de parenthèses contenant les paramètres nécessaires."
   ]
  },
  {
   "cell_type": "code",
   "execution_count": 4,
   "metadata": {
    "collapsed": false,
    "deletable": true,
    "editable": true
   },
   "outputs": [
    {
     "name": "stdout",
     "output_type": "stream",
     "text": [
      "Something\n"
     ]
    }
   ],
   "source": [
    "def print_something():\n",
    "    print(\"Something\")\n",
    "    \n",
    "print_something()"
   ]
  },
  {
   "cell_type": "markdown",
   "metadata": {
    "deletable": true,
    "editable": true
   },
   "source": [
    "*print_something* n'attends pas de paramètre. Vous pouvez l'appeler dans la cellule suivante."
   ]
  },
  {
   "cell_type": "code",
   "execution_count": null,
   "metadata": {
    "collapsed": true,
    "deletable": true,
    "editable": true
   },
   "outputs": [],
   "source": [
    ""
   ]
  },
  {
   "cell_type": "markdown",
   "metadata": {
    "deletable": true,
    "editable": true
   },
   "source": [
    "Les fonctions peuvent avoir des paramètres. Testez la fonction suivante en lui passant un paramètre."
   ]
  },
  {
   "cell_type": "code",
   "execution_count": null,
   "metadata": {
    "collapsed": true,
    "deletable": true,
    "editable": true
   },
   "outputs": [],
   "source": [
    "def print_param(param_to_print):\n",
    "    print(param_to_print)"
   ]
  },
  {
   "cell_type": "markdown",
   "metadata": {
    "deletable": true,
    "editable": true
   },
   "source": [
    "Les paramètres peuvent être optionnel. Pour cela, une valeur par défaut doit leur être attribuée dans la signature de la fonction. "
   ]
  },
  {
   "cell_type": "code",
   "execution_count": null,
   "metadata": {
    "collapsed": false,
    "deletable": true,
    "editable": true
   },
   "outputs": [],
   "source": [
    "def print_hello(who=\"\"):\n",
    "    print(\"Hello {}\".format(who if who else \"World\"))\n",
    "    \n",
    "print_hello()\n",
    "print_hello(\"Me\")\n",
    "print_hello(who=\"You\")"
   ]
  },
  {
   "cell_type": "markdown",
   "metadata": {
    "deletable": true,
    "editable": true
   },
   "source": [
    "Une fonction est un objet. Ne confondez pas les instructions\n",
    "```python\n",
    "print_hello\n",
    "```\n",
    "et\n",
    "```python\n",
    "print_hello()\n",
    "```\n",
    "La seconde est un appel de la fonction et retourne le retour de la fonction (None). La première est une référence à la fonction et retourne donc… La fonction. Une fonction est un *callable* et pour être *appelé*, sa déclaration doit le suivre de parenthèses.\n",
    "\n",
    "Si le nom de la fonction retourne la fonction et que ce retour peut être exécuté par ajout de parenthèses, alors nous pouvons affecter une fonction à une variable, un paramètre de fonction ou un retour de fonction. Ceci permet le mécanisme de *callback*."
   ]
  },
  {
   "cell_type": "code",
   "execution_count": null,
   "metadata": {
    "collapsed": false,
    "deletable": true,
    "editable": true
   },
   "outputs": [],
   "source": [
    "def should_i_print(what, i_should=True):\n",
    "    if i_should:\n",
    "        what()\n",
    "        \n",
    "should_i_print(print_something)"
   ]
  },
  {
   "cell_type": "code",
   "execution_count": null,
   "metadata": {
    "collapsed": false,
    "deletable": true,
    "editable": true
   },
   "outputs": [],
   "source": [
    "my_functions = {\"basic\": print_something, \"arg\": print_param, \"polite\": print_hello}\n",
    "my_functions['basic']()\n",
    "my_functions[\"polite\"](\"Me\")"
   ]
  },
  {
   "cell_type": "markdown",
   "metadata": {
    "deletable": true,
    "editable": true
   },
   "source": [
    "## Exercices\n",
    "\n",
    "### Compteur d'éléments\n",
    "Vous vous souvenez que les instructions des derniers exercices sur les boucles étaient très similaires ? Écrivez une fonction qui permet d'afficher chaque élément d'une séquence.\n",
    "\n",
    "* Affichez chaque caractère d'une chaine à l'aide de cette fonction.\n",
    "* Affichez chaque élément d'une liste à l'aide de cette fonction.\n",
    "* Afficher chaque mot de la chaîne de caractère à l'aide de cette fonction."
   ]
  },
  {
   "cell_type": "code",
   "execution_count": 11,
   "metadata": {
    "collapsed": false,
    "deletable": true,
    "editable": true
   },
   "outputs": [],
   "source": [
    "def itemPrint(seq):\n",
    "    print([item for item in seq])\n",
    "\n",
    "def WordPrint(sentence):\n",
    "    print([item for item in sentence.split()])"
   ]
  },
  {
   "cell_type": "code",
   "execution_count": null,
   "metadata": {
    "collapsed": true
   },
   "outputs": [],
   "source": [
    "itemPrint(\"Tooto\")"
   ]
  },
  {
   "cell_type": "code",
   "execution_count": 6,
   "metadata": {
    "collapsed": false,
    "scrolled": false
   },
   "outputs": [
    {
     "name": "stdout",
     "output_type": "stream",
     "text": [
      "['toto', 'tata', 'titi']\n"
     ]
    }
   ],
   "source": [
    "itemPrint(['toto', 'tata', 'titi'])"
   ]
  },
  {
   "cell_type": "code",
   "execution_count": 12,
   "metadata": {
    "collapsed": false
   },
   "outputs": [
    {
     "name": "stdout",
     "output_type": "stream",
     "text": [
      "['Ceci', 'est', 'une', 'phrase']\n"
     ]
    }
   ],
   "source": [
    "WordPrint(\"Ceci est une phrase\")"
   ]
  },
  {
   "cell_type": "markdown",
   "metadata": {
    "deletable": true,
    "editable": true
   },
   "source": [
    "### Compteur de mots\n",
    "\n",
    "Écrire une fonction compteur_mots acceptant une chaine de caractères en argument et qui renvoie un dictionnaire contenant la fréquence de tous les mots de la chaîne."
   ]
  },
  {
   "cell_type": "code",
   "execution_count": 64,
   "metadata": {
    "collapsed": true
   },
   "outputs": [],
   "source": [
    "def compteur_mots(chaine):\n",
    "    occurence = 0\n",
    "    countword = {}\n",
    "    for item in chaine.split():\n",
    "        countword[item] = countword.get(item, 0) + 1\n",
    "    return countword"
   ]
  },
  {
   "cell_type": "code",
   "execution_count": 48,
   "metadata": {
    "collapsed": false,
    "deletable": true,
    "editable": true
   },
   "outputs": [
    {
     "data": {
      "text/plain": [
       "{'de': 1, 'gogo': 1, 'test': 2}"
      ]
     },
     "execution_count": 48,
     "metadata": {},
     "output_type": "execute_result"
    }
   ],
   "source": [
    "compteur_mots('test de test gogo')"
   ]
  },
  {
   "cell_type": "markdown",
   "metadata": {
    "deletable": true,
    "editable": true
   },
   "source": [
    "### Tables de multiplication\n",
    "\n",
    "* Ecrire une fonction qui affiche une table de multiplication de la valeur passée en paramètre sous la forme suivante (pour la table de 4) :\n",
    "\n",
    "```\n",
    "   4 |   8 |  12 |  16 |  20 |  24 |  28 |  32 |  36 |  40\n",
    "```\n",
    "* La fonction table multiplication doit avoir un paramètre optionnel **multiplicateur_max** qui est par défaut à 10.\n",
    "* Ecrire une fonction qui à l'aide de la fonction précédente affiche la table de Pythagore avec le format suivant :\n",
    "\n",
    "```\n",
    "---------------------------------------------------------\n",
    "  1 |   2 |   3 |   4 |   5 |   6 |   7 |   8 |   9 |  10\n",
    "  2 |   4 |   6 |   8 |  10 |  12 |  14 |  16 |  18 |  20\n",
    "  3 |   6 |   9 |  12 |  15 |  18 |  21 |  24 |  27 |  30\n",
    "  4 |   8 |  12 |  16 |  20 |  24 |  28 |  32 |  36 |  40\n",
    "  5 |  10 |  15 |  20 |  25 |  30 |  35 |  40 |  45 |  50\n",
    "  6 |  12 |  18 |  24 |  30 |  36 |  42 |  48 |  54 |  60\n",
    "  7 |  14 |  21 |  28 |  35 |  42 |  49 |  56 |  63 |  70\n",
    "  8 |  16 |  24 |  32 |  40 |  48 |  56 |  64 |  72 |  80\n",
    "  9 |  18 |  27 |  36 |  45 |  54 |  63 |  72 |  81 |  90\n",
    " 10 |  20 |  30 |  40 |  50 |  60 |  70 |  80 |  90 | 100\n",
    " ---------------------------------------------------------\n",
    " ```"
   ]
  },
  {
   "cell_type": "code",
   "execution_count": 106,
   "metadata": {
    "collapsed": true,
    "deletable": true,
    "editable": true
   },
   "outputs": [],
   "source": [
    "def multiplyTable(number, multiplicateur_max=10):\n",
    "    result = [number*item for item in range(1,multiplicateur_max+1)]\n",
    "    print_result = ''\n",
    "    for item in result:\n",
    "        print_result += \"{:3} |\".format(item)\n",
    "    print(print_result)"
   ]
  },
  {
   "cell_type": "code",
   "execution_count": 108,
   "metadata": {
    "collapsed": false
   },
   "outputs": [
    {
     "name": "stdout",
     "output_type": "stream",
     "text": [
      "  4 |  8 | 12 | 16 | 20 | 24 | 28 | 32 | 36 | 40 |\n"
     ]
    }
   ],
   "source": [
    "multiplyTable(4)"
   ]
  },
  {
   "cell_type": "code",
   "execution_count": 105,
   "metadata": {
    "collapsed": true
   },
   "outputs": [],
   "source": [
    "def pythagoreTable(nb_table):\n",
    "    print(('-----'*nb_table))\n",
    "    for i in range(1,nb_table + 1):\n",
    "        multiplyTable(i, nb_table)\n",
    "    print(('-----'*nb_table))"
   ]
  },
  {
   "cell_type": "code",
   "execution_count": 88,
   "metadata": {
    "collapsed": false
   },
   "outputs": [
    {
     "name": "stdout",
     "output_type": "stream",
     "text": [
      "---------------------------------------------------------------------------\n",
      "  1 |  2 |  3 |  4 |  5 |  6 |  7 |  8 |  9 | 10 | 11 | 12 | 13 | 14 | 15 |\n",
      "  2 |  4 |  6 |  8 | 10 | 12 | 14 | 16 | 18 | 20 | 22 | 24 | 26 | 28 | 30 |\n",
      "  3 |  6 |  9 | 12 | 15 | 18 | 21 | 24 | 27 | 30 | 33 | 36 | 39 | 42 | 45 |\n",
      "  4 |  8 | 12 | 16 | 20 | 24 | 28 | 32 | 36 | 40 | 44 | 48 | 52 | 56 | 60 |\n",
      "  5 | 10 | 15 | 20 | 25 | 30 | 35 | 40 | 45 | 50 | 55 | 60 | 65 | 70 | 75 |\n",
      "  6 | 12 | 18 | 24 | 30 | 36 | 42 | 48 | 54 | 60 | 66 | 72 | 78 | 84 | 90 |\n",
      "  7 | 14 | 21 | 28 | 35 | 42 | 49 | 56 | 63 | 70 | 77 | 84 | 91 | 98 |105 |\n",
      "  8 | 16 | 24 | 32 | 40 | 48 | 56 | 64 | 72 | 80 | 88 | 96 |104 |112 |120 |\n",
      "  9 | 18 | 27 | 36 | 45 | 54 | 63 | 72 | 81 | 90 | 99 |108 |117 |126 |135 |\n",
      " 10 | 20 | 30 | 40 | 50 | 60 | 70 | 80 | 90 |100 |110 |120 |130 |140 |150 |\n",
      " 11 | 22 | 33 | 44 | 55 | 66 | 77 | 88 | 99 |110 |121 |132 |143 |154 |165 |\n",
      " 12 | 24 | 36 | 48 | 60 | 72 | 84 | 96 |108 |120 |132 |144 |156 |168 |180 |\n",
      " 13 | 26 | 39 | 52 | 65 | 78 | 91 |104 |117 |130 |143 |156 |169 |182 |195 |\n",
      " 14 | 28 | 42 | 56 | 70 | 84 | 98 |112 |126 |140 |154 |168 |182 |196 |210 |\n",
      " 15 | 30 | 45 | 60 | 75 | 90 |105 |120 |135 |150 |165 |180 |195 |210 |225 |\n",
      "---------------------------------------------------------------------------\n"
     ]
    }
   ],
   "source": [
    "pythagoreTable(15)"
   ]
  },
  {
   "cell_type": "code",
   "execution_count": null,
   "metadata": {
    "collapsed": true
   },
   "outputs": [],
   "source": [
    ""
   ]
  },
  {
   "cell_type": "code",
   "execution_count": null,
   "metadata": {
    "collapsed": true
   },
   "outputs": [],
   "source": [
    ""
   ]
  }
 ],
 "metadata": {
  "kernelspec": {
   "display_name": "Python 3",
   "language": "python",
   "name": "python3"
  },
  "language_info": {
   "codemirror_mode": {
    "name": "ipython",
    "version": 3.0
   },
   "file_extension": ".py",
   "mimetype": "text/x-python",
   "name": "python",
   "nbconvert_exporter": "python",
   "pygments_lexer": "ipython3",
   "version": "3.5.2"
  }
 },
 "nbformat": 4,
 "nbformat_minor": 0
}