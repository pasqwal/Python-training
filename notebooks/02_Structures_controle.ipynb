{
 "cells": [
  {
   "cell_type": "markdown",
   "metadata": {
    "deletable": true,
    "editable": true
   },
   "source": [
    "## Les structures de contrôle\n",
    "### Contrôle de base\n",
    "* Saisir deux nombres, comparez les pour afficher le plus petit\n",
    "* Refaire l’exercice avec l’instruction ternaire"
   ]
  },
  {
   "cell_type": "code",
   "execution_count": null,
   "metadata": {
    "collapsed": true,
    "deletable": true,
    "editable": true
   },
   "outputs": [],
   "source": []
  },
  {
   "cell_type": "markdown",
   "metadata": {
    "deletable": true,
    "editable": true
   },
   "source": [
    "### Conditions multiples\n",
    "On désire sécuriser une enceinte pressurisée. On fixe une pression seuil **P_LIMIT**=3.5 et le volume est fixe a **VOLUME**=7.41.\n",
    "\n",
    "Le script doit simuler le comportement suivant :\n",
    "\n",
    "* Si la pression est supérieure au double du seuils : arrêt immédiat.\n",
    "* Si la pression est supérieure à la pression seuil : demander de diminuer la température\n",
    "* Si la pression est inférieur à 1 : demander d’augmenter la température\n",
    "* Sinon, déclarer que tout va bien.\n",
    "\n",
    "\n",
    "1. Écrivez le script\n",
    "2. Améliorez le script en indiquant de quelle valeur la température doit être modifiée. Rappel de thermodynamique : PV = nRT simplifié ici par PV = T.\n",
    "3. Incluez ce script dans une boucle qui répète la question tant que soit la situation est rétablie soit l’enceinte est arrêtée."
   ]
  },
  {
   "cell_type": "code",
   "execution_count": 3,
   "metadata": {
    "collapsed": false,
    "deletable": true,
    "editable": true
   },
   "outputs": [
    {
     "name": "stdout",
     "output_type": "stream",
     "text": [
      "Température ?7\n",
      "Pression = 0.9446693657219973\n",
      "Augmente T° de 18.94\n",
      "Température ?50\n",
      "Pression = 6.747638326585695\n",
      "diminue la T° de 24.06\n",
      "Température ?10\n",
      "Pression = 1.349527665317139\n",
      "Tout va bien\n"
     ]
    }
   ],
   "source": [
    "P_LIMIT=3.5\n",
    "VOLUME=7.41\n",
    "while True:\n",
    "    Temp_encours = float(input(\"Température ?\"))\n",
    "    pression_encours = Temp_encours / VOLUME\n",
    "    print(\"Pression = {}\".format(pression_encours))\n",
    "    \n",
    "    if pression_encours > P_LIMIT*2:\n",
    "        print(\"arrêt immédiat\")\n",
    "        break\n",
    "    elif pression_encours > P_LIMIT:\n",
    "        print(\"diminue la T° de {:.2f}\".format(pression_encours*VOLUME-P_LIMIT*VOLUME))\n",
    "    elif pression_encours < 1:\n",
    "        print(\"Augmente T° de {:.2f}\".format(P_LIMIT*VOLUME-pression_encours*VOLUME))\n",
    "    else:\n",
    "        print(\"Tout va bien\")\n",
    "        break\n",
    "\n",
    "\n",
    "    \n",
    "    "
   ]
  },
  {
   "cell_type": "markdown",
   "metadata": {
    "deletable": true,
    "editable": true
   },
   "source": [
    "### Les Boucles\n",
    "Affichez les entiers de 0 à 15 non compris de 3 en 3 en utilisant la boucle for et la fonction range()"
   ]
  },
  {
   "cell_type": "code",
   "execution_count": 5,
   "metadata": {
    "collapsed": false,
    "deletable": true,
    "editable": true
   },
   "outputs": [
    {
     "name": "stdout",
     "output_type": "stream",
     "text": [
      "[0, 3, 6, 9, 12]\n"
     ]
    }
   ],
   "source": [
    "print([item for item in range(0,15,3)])"
   ]
  },
  {
   "cell_type": "markdown",
   "metadata": {
    "deletable": true,
    "editable": true
   },
   "source": [
    "Affichez chaque caractère d’une chaine en utilisant la boucle for"
   ]
  },
  {
   "cell_type": "code",
   "execution_count": 7,
   "metadata": {
    "collapsed": false,
    "deletable": true,
    "editable": true
   },
   "outputs": [
    {
     "name": "stdout",
     "output_type": "stream",
     "text": [
      "['T', 'e', 's', 't']\n"
     ]
    }
   ],
   "source": [
    "print([char for char in 'Test'])"
   ]
  },
  {
   "cell_type": "markdown",
   "metadata": {
    "deletable": true,
    "editable": true
   },
   "source": [
    "Affichez chaque élément d’une liste en utilisant la boucle for"
   ]
  },
  {
   "cell_type": "code",
   "execution_count": 8,
   "metadata": {
    "collapsed": false,
    "deletable": true,
    "editable": true
   },
   "outputs": [
    {
     "name": "stdout",
     "output_type": "stream",
     "text": [
      "[1, 2, 3, 'test']\n"
     ]
    }
   ],
   "source": [
    "print([item for item in [1,2,3,\"test\"]])"
   ]
  },
  {
   "cell_type": "markdown",
   "metadata": {
    "deletable": true,
    "editable": true
   },
   "source": [
    "Il est temps d'améliorer nos techiques avec les fonctions"
   ]
  }
 ],
 "metadata": {
  "kernelspec": {
   "display_name": "Python 3",
   "language": "python",
   "name": "python3"
  },
  "language_info": {
   "codemirror_mode": {
    "name": "ipython",
    "version": 3
   },
   "file_extension": ".py",
   "mimetype": "text/x-python",
   "name": "python",
   "nbconvert_exporter": "python",
   "pygments_lexer": "ipython3",
   "version": "3.5.2"
  }
 },
 "nbformat": 4,
 "nbformat_minor": 0
}
